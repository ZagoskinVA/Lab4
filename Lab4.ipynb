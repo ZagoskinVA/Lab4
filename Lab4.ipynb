{
 "cells": [
  {
   "cell_type": "code",
   "execution_count": 9,
   "id": "d21f656f",
   "metadata": {},
   "outputs": [],
   "source": [
    "from tqdm import tqdm\n",
    "import random as rd\n",
    "import copy\n",
    "from itertools import combinations\n",
    "import numpy as np\n",
    "from os import listdir\n",
    "from os.path import isfile, join\n",
    "from os import path\n",
    "import argparse\n",
    "import csv\n",
    "import time\n",
    "from pathlib import Path\n"
   ]
  },
  {
   "cell_type": "code",
   "execution_count": 35,
   "id": "542d2d01",
   "metadata": {},
   "outputs": [],
   "source": [
    "import numpy as np\n",
    "\n",
    "__all__ = ['QAData', 'QAReader', 'init_solution']\n",
    "\n",
    "\n",
    "def init_solution(n):\n",
    "    return np.random.permutation(np.arange(n))\n",
    "\n",
    "\n",
    "class QAData:\n",
    "    def __init__(self, n, distances, flows):\n",
    "        self.n = n\n",
    "        self.distances = distances\n",
    "        self.flows = flows\n",
    "\n",
    "    def compute_cost(self, solution, **kwargs):\n",
    "        cost = 0\n",
    "        for i in range(self.n):\n",
    "            for j in range(self.n):\n",
    "                dist = self.distances[solution[i]][solution[j]]\n",
    "                flow = self.flows[i][j]\n",
    "                cost += flow * dist\n",
    "\n",
    "        if 'method' not in kwargs.keys():\n",
    "            return cost\n",
    "        elif kwargs['method'] == 'guided':\n",
    "            augmented_part = 0\n",
    "            mu = kwargs['mu']\n",
    "            indicator_func = kwargs['indicator']\n",
    "            penalty = kwargs['penalty']\n",
    "            for u in range(self.n):\n",
    "                for v in range(self.n):\n",
    "                    augmented_part += indicator_func[u][v] * penalty[u][v]\n",
    "            return cost + mu * augmented_part\n",
    "\n",
    "\n",
    "class QAReader:\n",
    "    def __init__(self):\n",
    "        pass\n",
    "\n",
    "    def __call__(self, path):\n",
    "        with open(path, \"r\") as f:\n",
    "            n = int(f.readline().strip())\n",
    "            distances, flows = np.empty((n, n)), np.empty((n, n))\n",
    "            for i in range(n):\n",
    "                flows[i] = (list(map(int, f.readline().split())))\n",
    "            _ = f.readline()\n",
    "            for j in range(n):\n",
    "                distances[j] = (list(map(int, f.readline().split())))\n",
    "        return QAData(n, distances, flows)"
   ]
  },
  {
   "cell_type": "code",
   "execution_count": null,
   "id": "3af0ecef",
   "metadata": {},
   "outputs": [],
   "source": []
  },
  {
   "cell_type": "code",
   "execution_count": 36,
   "id": "c51e1e22",
   "metadata": {},
   "outputs": [],
   "source": [
    "class IteratedLocalSearch:\n",
    "    def __init__(self, data, method, verbose, n_iter):\n",
    "        self.data = data\n",
    "        self.verbose = verbose\n",
    "        self.method = method\n",
    "        self.iter_amount = n_iter\n",
    "        self.solution = init_solution(self.data.n)\n",
    "        self.current_cost = self.data.compute_cost(self.solution)\n",
    "        self.solver = LocalSearch(self.data, method, False, int(self.iter_amount * 0.1))\n",
    "        self.cost_history = []\n",
    "\n",
    "    def perturbation(self):\n",
    "        k = rd.randint(2, self.data.n)\n",
    "        indexes = np.random.choice(np.arange(self.data.n), k, replace=False)\n",
    "        shuffled_indexes = np.random.permutation(indexes)\n",
    "        new_solution = self.solution.copy()\n",
    "        new_solution[indexes] = self.solution[shuffled_indexes]\n",
    "        return new_solution\n",
    "\n",
    "    def acceptance_criterion(self, new_solution):\n",
    "        if self.data.compute_cost(self.solution) > self.data.compute_cost(new_solution):\n",
    "            self.solution = new_solution\n",
    "\n",
    "    def __call__(self):\n",
    "        if self.verbose:\n",
    "            print(f'Starting value of cost func is {self.data.compute_cost(self.solution)}')\n",
    "        self.solution, cost = self.solver(self.solution)\n",
    "        for _ in tqdm(range(self.iter_amount)):\n",
    "            new_solution, cost = self.solver(self.perturbation())\n",
    "            self.cost_history.append(cost)\n",
    "            self.acceptance_criterion(new_solution)\n",
    "        final_cost = self.data.compute_cost(self.solution)\n",
    "        if self.verbose:\n",
    "            print('Final cost {}'.format(final_cost))\n",
    "        return self.solution, final_cost"
   ]
  },
  {
   "cell_type": "code",
   "execution_count": 37,
   "id": "d2d13b9f",
   "metadata": {},
   "outputs": [],
   "source": [
    "class LocalSearch:\n",
    "    def __init__(self, data, method, verbose, n_iter, solution=None):\n",
    "        self.data = data\n",
    "        self.method = method\n",
    "        self.verbose = verbose\n",
    "        self.iter_amount = n_iter\n",
    "        self.solution = init_solution(self.data.n)\n",
    "        self.current_cost = self.data.compute_cost(self.solution)\n",
    "        self.patience = int(0.2 * self.iter_amount)\n",
    "        self.improved = True\n",
    "        self.no_improvements = 0\n",
    "\n",
    "    def stohastic_2_opt(self, **kwargs):\n",
    "        if self.verbose:\n",
    "            print(f'Starting value of cost func is {self.data.compute_cost(self.solution)}')\n",
    "\n",
    "        for _ in tqdm(range(self.iter_amount), disable=not self.verbose):\n",
    "            if not self.improved:\n",
    "                self.no_improvements += 1\n",
    "            if self.no_improvements == self.patience:\n",
    "                break\n",
    "            best_solution = self.solution\n",
    "            self.improved = False\n",
    "            for _ in range(int(0.2 * self.iter_amount)):\n",
    "                ind_left = rd.randint(0, self.data.n - 1)\n",
    "                ind_right = rd.randint(ind_left + 1, self.data.n)\n",
    "                tmp_solution = self.solution.copy()\n",
    "                tmp_solution[ind_left:ind_right] = tmp_solution[ind_left:ind_right][::-1]\n",
    "                cost = self.data.compute_cost(tmp_solution, **kwargs)\n",
    "                if cost < self.current_cost:\n",
    "                    self.improved = True\n",
    "                    self.no_improvements = 0\n",
    "                    self.current_cost = cost\n",
    "                    best_solution = tmp_solution\n",
    "            self.solution = best_solution\n",
    "        final_cost = self.data.compute_cost(self.solution, **kwargs)\n",
    "        if self.verbose:\n",
    "            print('Final cost {}'.format(final_cost))\n",
    "        return self.solution, final_cost\n",
    "\n",
    "    def count_delta(self, r, s):\n",
    "        diff = 0\n",
    "        pi = self.solution\n",
    "        for k in range(self.data.n):\n",
    "            if k != r and k != s:\n",
    "                diff += (self.data.flows[k, r] + self.data.flows[r, k]) * \\\n",
    "                        (self.data.distances[pi[s], pi[k]] - self.data.distances[pi[r], pi[k]]) + \\\n",
    "                        (self.data.flows[k, s] + self.data.flows[s, k]) * \\\n",
    "                        (self.data.distances[pi[r], pi[k]] - self.data.distances[pi[s], pi[k]])\n",
    "        return diff\n",
    "\n",
    "    def count_delta_with_previous(self, previous, u, v, r, s):\n",
    "        pi = self.solution\n",
    "        return previous + 2 * (self.data.flows[r, u] - self.data.flows[r, v] + self.data.flows[s, v] - self.data.flows[s, u]) * \\\n",
    "                          (self.data.distances[pi[s], pi[u]] - self.data.distances[pi[s], pi[v]] + self.data.distances[pi[r], pi[v]] - self.data.distances[pi[r], pi[u]])\n",
    "\n",
    "    def first_with_delta(self):\n",
    "        if self.verbose:\n",
    "            print('Start cost {}'.format(self.current_cost))\n",
    "\n",
    "        dont_look_bits = np.zeros(self.data.n, dtype=np.bool)\n",
    "        for _ in tqdm(range(self.iter_amount), disable=not self.verbose):\n",
    "            comb = combinations(np.arange(self.data.n, dtype=np.int32), 2)\n",
    "            if not self.improved:\n",
    "                self.no_improvements += 1\n",
    "            if self.no_improvements == self.patience or np.all(dont_look_bits):\n",
    "                break\n",
    "            self.improved = False\n",
    "            curr_city = 0\n",
    "            counter = 0\n",
    "            for opt in comb:\n",
    "                if dont_look_bits[opt[0]] or dont_look_bits[opt[1]]:\n",
    "                    continue\n",
    "                opt = list(opt)\n",
    "                if curr_city != opt[0] and counter == self.data.n - 1 - curr_city:\n",
    "                    dont_look_bits[curr_city] = 1\n",
    "                    curr_city += 1\n",
    "                    counter = 0\n",
    "                elif curr_city != opt[0]:\n",
    "                    curr_city += 1\n",
    "                    counter = 0\n",
    "                delta = self.count_delta(opt[0], opt[1])\n",
    "                if delta < 0:\n",
    "                    self.improved = True\n",
    "                    self.no_improvements = 0\n",
    "                    self.current_cost += delta\n",
    "                    self.solution[opt] = self.solution[opt][::-1]\n",
    "                    break\n",
    "                elif curr_city == opt[0]:\n",
    "                    counter += 1\n",
    "\n",
    "        final_cost = self.data.compute_cost(self.solution)\n",
    "        if self.verbose:\n",
    "            print('Final cost {}'.format(final_cost))\n",
    "        return self.solution, final_cost\n",
    "\n",
    "\n",
    "    def first_improvement(self):\n",
    "        if self.verbose:\n",
    "            print(f'Starting value of cost func is {self.data.compute_cost(self.solution)}')\n",
    "\n",
    "        dont_look_bits = np.zeros(self.data.n, dtype=np.bool)\n",
    "        for _ in tqdm(range(self.iter_amount), disable=not self.verbose):\n",
    "            comb = combinations(np.arange(self.data.n, dtype=np.int32), 2)\n",
    "            if not self.improved:\n",
    "                self.no_improvements += 1\n",
    "            if self.no_improvements == self.patience or np.all(dont_look_bits):\n",
    "                break\n",
    "            self.improved = False\n",
    "            curr_city = 0\n",
    "            counter = 0\n",
    "            for opt in comb:\n",
    "                if dont_look_bits[opt[0]] or dont_look_bits[opt[1]]:\n",
    "                    continue\n",
    "                opt = list(opt)\n",
    "                tmp_solution = self.solution.copy()\n",
    "                tmp_solution[opt] = tmp_solution[opt][::-1]\n",
    "                cost = self.data.compute_cost(tmp_solution)\n",
    "                if curr_city != opt[0] and counter == self.data.n - 1 - curr_city:\n",
    "                    dont_look_bits[curr_city] = 1\n",
    "                    curr_city += 1\n",
    "                    counter = 0\n",
    "                elif curr_city != opt[0]:\n",
    "                    curr_city += 1\n",
    "                    counter = 0\n",
    "                if cost < self.current_cost:\n",
    "                    self.improved = True\n",
    "                    self.no_improvements = 0\n",
    "                    self.current_cost = cost\n",
    "                    self.solution = tmp_solution\n",
    "                    break\n",
    "                elif curr_city == opt[0]:\n",
    "                    counter += 1\n",
    "\n",
    "\n",
    "        final_cost = self.data.compute_cost(self.solution)\n",
    "        if self.verbose:\n",
    "            print('Final cost {}'.format(final_cost))\n",
    "        return self.solution, final_cost\n",
    "\n",
    "    def best_improvement(self):\n",
    "        if self.verbose:\n",
    "            print(f'Starting value of cost func is {self.data.compute_cost(self.solution)}')\n",
    "        previous_opt = None\n",
    "        previous_delta = None\n",
    "        for _ in tqdm(range(self.iter_amount), disable=not self.verbose):\n",
    "            comb = list(combinations(np.arange(self.data.n, dtype=np.int32), 2))\n",
    "            if not self.improved:\n",
    "                self.no_improvements += 1\n",
    "            if self.no_improvements == self.patience:\n",
    "                break\n",
    "            self.improved = False\n",
    "            min_delta = previous_delta if previous_delta is not None else 0\n",
    "            optimal_opt = None\n",
    "            for opt in comb:\n",
    "                opt = list(opt)\n",
    "                if previous_opt is not None and not opt == previous_opt:\n",
    "                    delta = self.count_delta_with_previous(previous_delta, *opt, *previous_opt)\n",
    "                elif opt == previous_opt:\n",
    "                    continue\n",
    "                else:\n",
    "                    delta = self.count_delta(*opt)\n",
    "                if delta < min_delta:\n",
    "                    min_delta = delta\n",
    "                    optimal_opt = opt\n",
    "            if optimal_opt is not None:\n",
    "                self.solution[optimal_opt] = self.solution[optimal_opt][::-1]\n",
    "                self.improved = True\n",
    "                previous_opt = optimal_opt\n",
    "                previous_delta = min_delta\n",
    "            else:\n",
    "                self.improved = False\n",
    "        final_cost = self.data.compute_cost(self.solution)\n",
    "        if self.verbose:\n",
    "            print('Final cost {}'.format(final_cost))\n",
    "        return self.solution, final_cost\n",
    "\n",
    "    def __call__(self, solution=None, **kwargs):\n",
    "        if solution is not None:\n",
    "            self.solution = solution\n",
    "        if self.method == '2-opt':\n",
    "            return self.stohastic_2_opt(**kwargs)\n",
    "        elif self.method == 'first-improvement':\n",
    "            return self.first_improvement()\n",
    "        elif self.method == 'first-with-delta':\n",
    "            return self.first_with_delta()\n",
    "        else:\n",
    "            return self.best_improvement()"
   ]
  },
  {
   "cell_type": "code",
   "execution_count": 38,
   "id": "ffe0398c",
   "metadata": {},
   "outputs": [],
   "source": [
    "best_known = {\n",
    "    'tai20a': 703482,\n",
    "    'tai40a': 3139370,\n",
    "    'tai60a': 7205962,\n",
    "    'tai80a': 13499184,\n",
    "    'tai100a': 21044752,\n",
    "}"
   ]
  },
  {
   "cell_type": "code",
   "execution_count": 39,
   "id": "7a9c823d",
   "metadata": {},
   "outputs": [
    {
     "name": "stderr",
     "output_type": "stream",
     "text": [
      "<ipython-input-37-3eb63bfa0099>:61: DeprecationWarning: `np.bool` is a deprecated alias for the builtin `bool`. To silence this warning, use `bool` by itself. Doing this will not modify any behavior and is safe. If you specifically wanted the numpy scalar type, use `np.bool_` here.\n",
      "Deprecated in NumPy 1.20; for more details and guidance: https://numpy.org/devdocs/release/1.20.0-notes.html#deprecations\n",
      "  dont_look_bits = np.zeros(self.data.n, dtype=np.bool)\n",
      " 38%|█████████████████████████████▋                                                | 38/100 [00:00<00:00, 351.85it/s]"
     ]
    },
    {
     "name": "stdout",
     "output_type": "stream",
     "text": [
      "local search working on tai100a\n",
      "Start cost 24152846.0\n"
     ]
    },
    {
     "name": "stderr",
     "output_type": "stream",
     "text": [
      "100%|█████████████████████████████████████████████████████████████████████████████| 100/100 [00:00<00:00, 163.13it/s]\n",
      "  3%|██▍                                                                             | 3/100 [00:00<00:04, 21.90it/s]"
     ]
    },
    {
     "name": "stdout",
     "output_type": "stream",
     "text": [
      "Final cost 23045840.0\n",
      "iterated local search working on tai100a\n",
      "Starting value of cost func is 24105932.0\n"
     ]
    },
    {
     "name": "stderr",
     "output_type": "stream",
     "text": [
      "100%|██████████████████████████████████████████████████████████████████████████████| 100/100 [00:05<00:00, 19.39it/s]\n",
      " 48%|████████████████████████████████████▉                                        | 48/100 [00:00<00:00, 1021.26it/s]\n",
      " 18%|██████████████                                                                | 18/100 [00:00<00:00, 165.14it/s]"
     ]
    },
    {
     "name": "stdout",
     "output_type": "stream",
     "text": [
      "Final cost 23057566.0\n",
      "local search working on tai20a\n",
      "Start cost 885660.0\n",
      "Final cost 746722.0\n",
      "iterated local search working on tai20a\n",
      "Starting value of cost func is 930794.0\n"
     ]
    },
    {
     "name": "stderr",
     "output_type": "stream",
     "text": [
      "100%|█████████████████████████████████████████████████████████████████████████████| 100/100 [00:00<00:00, 118.77it/s]\n",
      " 45%|███████████████████████████████████                                           | 45/100 [00:00<00:00, 428.58it/s]"
     ]
    },
    {
     "name": "stdout",
     "output_type": "stream",
     "text": [
      "Final cost 730128.0\n",
      "local search working on tai40a\n",
      "Start cost 3774768.0\n"
     ]
    },
    {
     "name": "stderr",
     "output_type": "stream",
     "text": [
      " 76%|███████████████████████████████████████████████████████████▎                  | 76/100 [00:00<00:00, 241.27it/s]\n",
      "  9%|███████▏                                                                        | 9/100 [00:00<00:01, 88.23it/s]"
     ]
    },
    {
     "name": "stdout",
     "output_type": "stream",
     "text": [
      "Final cost 3341430.0\n",
      "iterated local search working on tai40a\n",
      "Starting value of cost func is 3814080.0\n"
     ]
    },
    {
     "name": "stderr",
     "output_type": "stream",
     "text": [
      "100%|██████████████████████████████████████████████████████████████████████████████| 100/100 [00:01<00:00, 57.40it/s]\n",
      " 35%|███████████████████████████▎                                                  | 35/100 [00:00<00:00, 334.21it/s]"
     ]
    },
    {
     "name": "stdout",
     "output_type": "stream",
     "text": [
      "Final cost 3327434.0\n",
      "local search working on tai60a\n",
      "Start cost 8435278.0\n"
     ]
    },
    {
     "name": "stderr",
     "output_type": "stream",
     "text": [
      " 99%|██████████████████████████████████████████████████████████████████████████████▏| 99/100 [00:01<00:00, 77.30it/s]\n",
      "  5%|████                                                                            | 5/100 [00:00<00:02, 47.47it/s]"
     ]
    },
    {
     "name": "stdout",
     "output_type": "stream",
     "text": [
      "Final cost 7704590.0\n",
      "iterated local search working on tai60a\n",
      "Starting value of cost func is 8559768.0\n"
     ]
    },
    {
     "name": "stderr",
     "output_type": "stream",
     "text": [
      "100%|██████████████████████████████████████████████████████████████████████████████| 100/100 [00:02<00:00, 41.99it/s]\n",
      " 80%|██████████████████████████████████████████████████████████████▍               | 80/100 [00:00<00:00, 256.22it/s]"
     ]
    },
    {
     "name": "stdout",
     "output_type": "stream",
     "text": [
      "Final cost 7944538.0\n",
      "local search working on tai80a\n",
      "Start cost 15706290.0\n"
     ]
    },
    {
     "name": "stderr",
     "output_type": "stream",
     "text": [
      "100%|█████████████████████████████████████████████████████████████████████████████| 100/100 [00:00<00:00, 206.19it/s]\n",
      "  3%|██▍                                                                             | 3/100 [00:00<00:04, 23.81it/s]"
     ]
    },
    {
     "name": "stdout",
     "output_type": "stream",
     "text": [
      "Final cost 14700210.0\n",
      "iterated local search working on tai80a\n",
      "Starting value of cost func is 15736964.0\n"
     ]
    },
    {
     "name": "stderr",
     "output_type": "stream",
     "text": [
      "100%|██████████████████████████████████████████████████████████████████████████████| 100/100 [00:04<00:00, 23.26it/s]"
     ]
    },
    {
     "name": "stdout",
     "output_type": "stream",
     "text": [
      "Final cost 14617158.0\n"
     ]
    },
    {
     "name": "stderr",
     "output_type": "stream",
     "text": [
      "\n"
     ]
    }
   ],
   "source": [
    "            n_iter = 100\n",
    "            file_res = open(\"C:\\\\Users\\\\Vlad\\\\Desktop\\\\Lab4\\\\result.csv\", 'w')\n",
    "            columns_names = ['File name', 'Method', 'Best known', 'Result', 'Time']\n",
    "            writer = csv.DictWriter(file_res, fieldnames=columns_names)\n",
    "            writer.writeheader()\n",
    "            reader = QAReader()\n",
    "            benchmarks = [f for f in listdir('C:\\\\Users\\\\Vlad\\\\Desktop\\\\Lab4\\\\Data') if isfile(join('C:\\\\Users\\\\Vlad\\\\Desktop\\\\Lab4\\\\Data', f))]\n",
    "            for file in benchmarks:\n",
    "                data = reader(path.join('C:\\\\Users\\\\Vlad\\\\Desktop\\\\Lab4\\\\Data', file))\n",
    "                algorithms = [(name, f(data, 'first-with-delta', True, n_iter)) for name, f in [(\"local search\", LocalSearch), (\"iterated local search\", IteratedLocalSearch)] if callable(f)]\n",
    "                for name, algorithm in algorithms:\n",
    "                    Path(f\"./{name}\").mkdir(parents=True, exist_ok=True)\n",
    "                    print(f'{name} working on {file}')\n",
    "                    start_time = time.time()\n",
    "                    solution, final_cost = algorithm()\n",
    "                    work_time = round(time.time() - start_time, 4)\n",
    "                    np.savetxt(f'./{name}/{file}.sol', solution.reshape(1, solution.shape[0]), fmt='%d')\n",
    "                    writer.writerow({\n",
    "                        'File name': file,\n",
    "                        'Method': name,\n",
    "                        'Best known': best_known[file],\n",
    "                        'Result': final_cost,\n",
    "                        'Time': work_time\n",
    "                    })"
   ]
  },
  {
   "cell_type": "code",
   "execution_count": 47,
   "id": "7dbc4192",
   "metadata": {},
   "outputs": [
    {
     "name": "stdout",
     "output_type": "stream",
     "text": [
      "Local Search\n",
      "Name: tai100a.sol. Solution 31 74 52 69 21 57 66 23 48 28 81 71 56 24 18 77 46 67 3 85 75 26 34 2 98 12 84 96 4 15 39 78 20 10 68 17 9 13 62 94 41 79 89 72 50 91 58 65 29 30 60 0 44 99 19 1 59 11 55 7 8 36 32 45 64 42 35 86 53 54 38 49 82 47 63 37 76 16 33 80 43 25 5 61 83 14 88 90 51 70 93 22 95 6 40 27 73 87 97 92\n",
      "\n",
      "Name: tai20a.sol. Solution 11 9 7 3 14 13 12 18 8 4 2 6 1 15 17 16 19 5 10 0\n",
      "\n",
      "Name: tai40a.sol. Solution 25 28 20 12 36 2 16 23 17 10 29 13 11 38 37 14 4 0 1 7 21 5 6 33 27 19 3 32 31 15 24 35 9 8 22 30 18 39 26 34\n",
      "\n",
      "Name: tai60a.sol. Solution 46 19 27 58 38 30 20 49 42 5 48 26 56 34 2 37 43 23 41 44 24 28 29 35 10 36 7 53 14 32 25 22 8 17 6 54 13 11 18 45 4 33 39 50 1 9 15 3 16 59 51 55 52 21 57 47 31 40 12 0\n",
      "\n",
      "Name: tai80a.sol. Solution 21 65 22 46 70 75 35 52 53 51 17 55 28 71 40 7 19 42 47 20 57 63 78 54 14 4 60 31 45 56 66 5 3 30 38 0 16 74 29 32 68 11 6 62 25 67 36 1 73 50 26 49 44 27 23 76 18 79 43 12 37 2 61 72 39 24 10 34 59 13 64 9 41 69 48 58 33 8 77 15\n",
      "\n"
     ]
    }
   ],
   "source": [
    "print('Local Search')\n",
    "for file in listdir('C:\\\\Users\\\\Vlad\\\\local search'):\n",
    "    sol = open(f'C:\\\\Users\\\\Vlad\\\\local search\\\\{file}', 'r').read()\n",
    "    print(f'Name: {file}. Solution {sol}')"
   ]
  },
  {
   "cell_type": "code",
   "execution_count": 48,
   "id": "3411bee5",
   "metadata": {},
   "outputs": [
    {
     "name": "stdout",
     "output_type": "stream",
     "text": [
      "Iterated Local Search\n",
      "Name: tai100a.sol. Solution 66 72 67 65 69 58 80 91 63 1 38 61 68 56 36 97 27 96 9 79 85 20 55 90 73 44 92 2 93 41 31 19 50 40 59 75 29 39 51 99 30 35 57 78 45 18 5 15 3 52 47 6 82 34 81 76 7 24 22 8 64 43 62 26 98 25 17 71 84 33 4 86 13 87 70 95 74 23 32 89 94 83 11 88 10 16 53 21 28 54 77 46 0 42 60 12 48 14 49 37\n",
      "\n",
      "Name: tai20a.sol. Solution 13 8 11 9 1 0 10 15 19 16 14 3 4 12 17 18 6 5 7 2\n",
      "\n",
      "Name: tai40a.sol. Solution 29 23 31 27 34 37 33 2 28 9 6 0 11 14 5 21 17 30 36 32 25 7 13 38 22 18 20 12 19 24 26 3 4 10 1 15 39 16 35 8\n",
      "\n",
      "Name: tai60a.sol. Solution 55 1 35 17 39 2 43 8 38 48 49 51 30 31 11 21 56 27 37 41 58 34 52 29 25 46 44 3 24 20 7 18 19 36 4 33 42 57 47 22 0 40 59 23 50 5 10 16 6 53 54 13 12 45 9 28 15 14 32 26\n",
      "\n",
      "Name: tai80a.sol. Solution 38 79 42 40 39 46 37 26 44 77 18 2 61 65 64 20 51 47 9 22 14 29 34 15 76 62 45 4 11 70 52 3 78 31 56 50 33 35 7 74 49 21 58 32 19 36 16 43 30 66 67 5 13 59 23 54 28 48 57 68 17 71 10 73 12 41 24 6 72 0 27 75 63 60 25 55 53 69 1 8\n",
      "\n"
     ]
    }
   ],
   "source": [
    "print('Iterated Local Search')\n",
    "for file in listdir('C:\\\\Users\\\\Vlad\\\\iterated local search'):\n",
    "    sol = open(f'C:\\\\Users\\\\Vlad\\\\iterated local search\\\\{file}', 'r').read()\n",
    "    print(f'Name: {file}. Solution {sol}')"
   ]
  },
  {
   "cell_type": "code",
   "execution_count": null,
   "id": "4b020f2e",
   "metadata": {},
   "outputs": [],
   "source": []
  },
  {
   "cell_type": "code",
   "execution_count": null,
   "id": "7829d90a",
   "metadata": {},
   "outputs": [],
   "source": []
  },
  {
   "cell_type": "code",
   "execution_count": null,
   "id": "a445395f",
   "metadata": {},
   "outputs": [],
   "source": []
  },
  {
   "cell_type": "code",
   "execution_count": null,
   "id": "7746ae04",
   "metadata": {},
   "outputs": [],
   "source": []
  },
  {
   "cell_type": "code",
   "execution_count": null,
   "id": "795ff663",
   "metadata": {},
   "outputs": [],
   "source": []
  }
 ],
 "metadata": {
  "kernelspec": {
   "display_name": "Python 3",
   "language": "python",
   "name": "python3"
  },
  "language_info": {
   "codemirror_mode": {
    "name": "ipython",
    "version": 3
   },
   "file_extension": ".py",
   "mimetype": "text/x-python",
   "name": "python",
   "nbconvert_exporter": "python",
   "pygments_lexer": "ipython3",
   "version": "3.8.8"
  }
 },
 "nbformat": 4,
 "nbformat_minor": 5
}
